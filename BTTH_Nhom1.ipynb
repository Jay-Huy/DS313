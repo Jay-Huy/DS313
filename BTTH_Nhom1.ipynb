{
  "cells": [
    {
      "cell_type": "markdown",
      "metadata": {
        "id": "8W2bSSAcWdqg"
      },
      "source": [
        "## A-2. Chọn 02 models TTS được hỗ trợ thực thi trong thư viện Coqui-TTS và mô tả với các nội dung sau:\n",
        "\n",
        "\n",
        "1.   Models nào? (Ví dụ Tacotron2, ViTS,...)\n",
        "2.   Mô tả tổng quan về models\n",
        "3.   Ưu điểm và nhược điểm\n",
        "4.   Đánh giá và kết luận\n",
        "\n"
      ]
    },
    {
      "cell_type": "markdown",
      "metadata": {
        "id": "zCr7cJsdWro2"
      },
      "source": [
        "### Trả lời <Model 1>\n",
        "\n",
        "\n",
        "> Trả lời ở đây\n",
        "\n"
      ]
    },
    {
      "cell_type": "markdown",
      "metadata": {
        "id": "iHnDYbLDXV74"
      },
      "source": [
        "### Trả lời <Model 2>\n",
        "\n",
        "> Trả lời ở đây"
      ]
    },
    {
      "cell_type": "markdown",
      "metadata": {
        "id": "TgnTGLY3XXjP"
      },
      "source": [
        "## B-6. Inference với 02 models TTS đã chọn với các câu samples sau:\n",
        "\n",
        "\n",
        "1.    \"I love my school, I vow to spend my youth meeting deadlines at UIT\"\n",
        "2.    \"If one day you don't see me at school, it means I didn't go to school that day\"\n",
        "3.    \"Hello, my group is [Group X] with members [Member 1] [Member 2] ...\" (Replace X as the group number, and the member names)\n",
        "4.    \"This is practice exercise 1 of the Speech Information Processing class\"\n",
        "5.    [Một câu text bất kỳ do nhóm chọn]\n",
        "6.    [Một câu text bất kỳ do nhóm chọn]\n",
        "\n"
      ]
    },
    {
      "cell_type": "code",
      "execution_count": null,
      "metadata": {
        "id": "fTQNtZtxY_Ff"
      },
      "outputs": [],
      "source": [
        "# Install libraries\n",
        "# ADD YOUR CODE HERE\n",
        "\n",
        "# Import libraries\n",
        "# ADD YOUR CODE HERE\n",
        "\n",
        "# Data preprocessing (if necessary)\n",
        "# ADD YOUR CODE HERE"
      ]
    },
    {
      "cell_type": "markdown",
      "metadata": {
        "id": "uedlDeU-Xcoc"
      },
      "source": [
        "### <Model 1>"
      ]
    },
    {
      "cell_type": "code",
      "execution_count": null,
      "metadata": {
        "id": "UDiZT19XX8Hl"
      },
      "outputs": [],
      "source": [
        "# ADD YOUR CODE HERE"
      ]
    },
    {
      "cell_type": "code",
      "execution_count": null,
      "metadata": {
        "id": "_eDY-mKwZTUP"
      },
      "outputs": [],
      "source": [
        "# DISPLAY THE SPEECH FOR EXAMPLE (1)\n",
        "# ADD YOUR CODE HERE"
      ]
    },
    {
      "cell_type": "code",
      "execution_count": null,
      "metadata": {
        "id": "0mhV8VUqZZ5H"
      },
      "outputs": [],
      "source": [
        "# DISPLAY THE SPEECH FOR EXAMPLE (2)\n",
        "# ADD YOUR CODE HERE"
      ]
    },
    {
      "cell_type": "code",
      "execution_count": null,
      "metadata": {
        "id": "9B3WFIZNZaKk"
      },
      "outputs": [],
      "source": [
        "# DISPLAY THE SPEECH FOR EXAMPLE (3)\n",
        "# ADD YOUR CODE HERE"
      ]
    },
    {
      "cell_type": "code",
      "execution_count": null,
      "metadata": {
        "id": "eI6bPnbeZaYG"
      },
      "outputs": [],
      "source": [
        "# DISPLAY THE SPEECH FOR EXAMPLE (4)\n",
        "# ADD YOUR CODE HERE"
      ]
    },
    {
      "cell_type": "code",
      "execution_count": null,
      "metadata": {
        "id": "6pI0471TZah6"
      },
      "outputs": [],
      "source": [
        "# DISPLAY THE SPEECH FOR EXAMPLE (5)\n",
        "# ADD YOUR CODE HERE"
      ]
    },
    {
      "cell_type": "code",
      "execution_count": null,
      "metadata": {
        "id": "x8btwIgZ6w4T"
      },
      "outputs": [],
      "source": [
        "# DISPLAY THE SPEECH FOR EXAMPLE (6)\n",
        "# ADD YOUR CODE HERE"
      ]
    },
    {
      "cell_type": "markdown",
      "metadata": {
        "id": "MX9YVdKQXehM"
      },
      "source": [
        "### <Model 2>"
      ]
    },
    {
      "cell_type": "code",
      "execution_count": null,
      "metadata": {
        "id": "upvHKDzrX9Kt"
      },
      "outputs": [],
      "source": [
        "# ADD YOUR CODE HERE"
      ]
    },
    {
      "cell_type": "code",
      "execution_count": null,
      "metadata": {
        "id": "vjeLesnkZf9v"
      },
      "outputs": [],
      "source": [
        "# DISPLAY THE SPEECH FOR EXAMPLE (1)\n",
        "# ADD YOUR CODE HERE"
      ]
    },
    {
      "cell_type": "code",
      "execution_count": null,
      "metadata": {
        "id": "EJCAF-EeZg2l"
      },
      "outputs": [],
      "source": [
        "# DISPLAY THE SPEECH FOR EXAMPLE (2)\n",
        "# ADD YOUR CODE HERE"
      ]
    },
    {
      "cell_type": "code",
      "execution_count": null,
      "metadata": {
        "id": "xvr1eqLMZiFz"
      },
      "outputs": [],
      "source": [
        "# DISPLAY THE SPEECH FOR EXAMPLE (3)\n",
        "# ADD YOUR CODE HERE"
      ]
    },
    {
      "cell_type": "code",
      "execution_count": null,
      "metadata": {
        "id": "jibZaXDtZjoR"
      },
      "outputs": [],
      "source": [
        "# DISPLAY THE SPEECH FOR EXAMPLE (4)\n",
        "# ADD YOUR CODE HERE"
      ]
    },
    {
      "cell_type": "code",
      "execution_count": null,
      "metadata": {
        "id": "t9veS0D1Zkd9"
      },
      "outputs": [],
      "source": [
        "# DISPLAY THE SPEECH FOR EXAMPLE (5)\n",
        "# ADD YOUR CODE HERE"
      ]
    },
    {
      "cell_type": "code",
      "execution_count": null,
      "metadata": {
        "id": "uO3Ncq8069kv"
      },
      "outputs": [],
      "source": [
        "# DISPLAY THE SPEECH FOR EXAMPLE (6)\n",
        "# ADD YOUR CODE HERE"
      ]
    },
    {
      "cell_type": "markdown",
      "metadata": {
        "id": "a9ahP5l_XqXE"
      },
      "source": [
        "## C-2. Training / Fine-tuning 01 trong 02 mô hình đã chọn (*) | Có thể dùng thư viện khác ngoài CoquiTTS (hoặc chọn models khác 2 models trên)\n"
      ]
    },
    {
      "cell_type": "code",
      "execution_count": null,
      "metadata": {
        "id": "cbrkGU3eXv1F"
      },
      "outputs": [],
      "source": [
        "# ADD YOUR CODE HERE"
      ]
    }
  ],
  "metadata": {
    "colab": {
      "provenance": []
    },
    "kernelspec": {
      "display_name": "Python 3",
      "name": "python3"
    },
    "language_info": {
      "name": "python"
    }
  },
  "nbformat": 4,
  "nbformat_minor": 0
}
